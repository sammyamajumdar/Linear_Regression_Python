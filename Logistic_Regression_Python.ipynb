{
 "cells": [
  {
   "cell_type": "code",
   "execution_count": 1,
   "metadata": {},
   "outputs": [],
   "source": [
    "import numpy as np\n",
    "import pandas as pd\n",
    "import matplotlib.pyplot as plt"
   ]
  },
  {
   "cell_type": "markdown",
   "metadata": {},
   "source": [
    "## Load the data"
   ]
  },
  {
   "cell_type": "code",
   "execution_count": 39,
   "metadata": {},
   "outputs": [
    {
     "name": "stdout",
     "output_type": "stream",
     "text": [
      "           0          1  2\n",
      "0  34.623660  78.024693  0\n",
      "1  30.286711  43.894998  0\n",
      "2  35.847409  72.902198  0\n",
      "3  60.182599  86.308552  1\n",
      "4  79.032736  75.344376  1\n",
      "                0           1           2\n",
      "count  100.000000  100.000000  100.000000\n",
      "mean    65.644274   66.221998    0.600000\n",
      "std     19.458222   18.582783    0.492366\n",
      "min     30.058822   30.603263    0.000000\n",
      "25%     50.919511   48.179205    0.000000\n",
      "50%     67.032988   67.682381    1.000000\n",
      "75%     80.212529   79.360605    1.000000\n",
      "max     99.827858   98.869436    1.000000\n"
     ]
    }
   ],
   "source": [
    "data = pd.read_csv(\"desktop/ML_DL_Projects/ex2data1.txt\", header = None)\n",
    "print(data.head())\n",
    "print(data.describe())\n",
    "X = np.array(data.iloc[:, 0:2])\n",
    "y = np.array(data.iloc[:, -1])"
   ]
  },
  {
   "cell_type": "markdown",
   "metadata": {},
   "source": [
    "## Visualize the data"
   ]
  },
  {
   "cell_type": "code",
   "execution_count": 40,
   "metadata": {},
   "outputs": [
    {
     "data": {
      "image/png": "[encoded data removed]",
      "text/plain": [
       "<Figure size 432x288 with 1 Axes>"
      ]
     },
     "metadata": {
      "needs_background": "light"
     },
     "output_type": "display_data"
    }
   ],
   "source": [
    "x_pos = np.array([X[i] for i in range(len(X)) if y[i] == 1])\n",
    "x_neg = np.array([X[i] for i in range(len(X)) if y[i] == 0])\n",
    "plt.scatter(x_pos[:, 0], x_pos[:, 1], marker = \"x\", color = \"b\", label = \"admitted\")\n",
    "plt.scatter(x_neg[:, 0], x_neg[:, 1], marker = \"x\", color = \"r\", label = \"rejected\")\n",
    "plt.xlabel(\"Exam 1 score\")\n",
    "plt.ylabel(\"Exam 2 score\")\n",
    "plt.legend(['Admitted', 'Not admitted'], loc='lower left', numpoints=1)\n",
    "plt.show()"
   ]
  },
  {
   "cell_type": "code",
   "execution_count": 41,
   "metadata": {},
   "outputs": [
    {
     "name": "stdout",
     "output_type": "stream",
     "text": [
      "value of sigmoid(0) : 0.5\n",
      "value of sigmoid(12) : 0.9999938558253978\n"
     ]
    }
   ],
   "source": [
    "def sigmoid(z):\n",
    "    return 1/(1 + np.exp(-z))\n",
    "print(\"value of sigmoid(0) : \" + str(sigmoid(0)))\n",
    "print(\"value of sigmoid(12) : \" + str(sigmoid(12)))"
   ]
  },
  {
   "cell_type": "code",
   "execution_count": 42,
   "metadata": {},
   "outputs": [],
   "source": [
    "def compute_cost(X, y, theta):\n",
    "    m = len(y)\n",
    "    predictions = sigmoid(np.dot(X, theta))\n",
    "    error = (-y * np.log(predictions)) - ((1 - y)*np.log(1 - predictions))\n",
    "    cost = 1/m * sum(error)\n",
    "    grad = 1/m * np.dot(X.transpose(), (predictions - y))\n",
    "    return (cost, grad)"
   ]
  },
  {
   "cell_type": "code",
   "execution_count": 43,
   "metadata": {},
   "outputs": [],
   "source": [
    "def feature_normalize(X):\n",
    "    mean = np.mean(X, axis = 0)\n",
    "    std = np.std(X, axis = 0)\n",
    "    X_norm = (X - mean) / std\n",
    "    return X_norm, mean, std"
   ]
  },
  {
   "cell_type": "code",
   "execution_count": 44,
   "metadata": {},
   "outputs": [
    {
     "name": "stdout",
     "output_type": "stream",
     "text": [
      "Cost with initial theta : [0.69314718]\n",
      "grad with initial theta : [[-0.1       ]\n",
      " [-0.28122914]\n",
      " [-0.25098615]]\n"
     ]
    }
   ],
   "source": [
    "m, n = X.shape[0], X.shape[1]\n",
    "X, mean, std = feature_normalize(X)\n",
    "X = np.append(np.ones((m, 1)), X, axis = 1)\n",
    "y = y.reshape(m, 1)\n",
    "initial_theta = np.zeros((n+1, 1))\n",
    "cost, grad = compute_cost(X, y, initial_theta)\n",
    "print(\"Cost with initial theta : \" + str(cost))\n",
    "print(\"grad with initial theta : \" + str(grad))"
   ]
  },
  {
   "cell_type": "markdown",
   "metadata": {},
   "source": [
    "## Implementing the gradient descent function"
   ]
  },
  {
   "cell_type": "code",
   "execution_count": 13,
   "metadata": {},
   "outputs": [],
   "source": [
    "def gradient_descent(X, y, theta, alpha = 1, iterations = 600):\n",
    "    m = len(y)\n",
    "    J = []\n",
    "    \n",
    "    for i in range(iterations):\n",
    "        cost, grad = compute_cost(X, y, theta)\n",
    "        theta = theta - (alpha * grad)\n",
    "        J.append(cost)\n",
    "        if i % 50 == 0:\n",
    "            print(f\"Cost after iteration {i} : {cost[0]}\")\n",
    "    return theta, J"
   ]
  },
  {
   "cell_type": "markdown",
   "metadata": {},
   "source": [
    "## The Learning Loop"
   ]
  },
  {
   "cell_type": "code",
   "execution_count": 15,
   "metadata": {},
   "outputs": [
    {
     "name": "stdout",
     "output_type": "stream",
     "text": [
      "Cost after iteration 0 : 0.693147180559946\n",
      "Cost after iteration 50 : 0.2236747553563192\n",
      "Cost after iteration 100 : 0.21030636199226166\n",
      "Cost after iteration 150 : 0.2064071430444978\n",
      "Cost after iteration 200 : 0.20487396001364275\n",
      "Cost after iteration 250 : 0.20418612241597853\n",
      "Cost after iteration 300 : 0.20385410511473073\n",
      "Cost after iteration 350 : 0.2036864262585427\n",
      "Cost after iteration 400 : 0.2035991876104249\n",
      "Cost after iteration 450 : 0.20355286797339253\n",
      "Cost after iteration 500 : 0.2035279213670058\n",
      "Cost after iteration 550 : 0.20351434831452087\n",
      "Value of optimized theta : [[1.70052917]\n",
      " [3.95453869]\n",
      " [3.68812518]]\n",
      "Optimized cost after running 600 iterations : [0.20350702]\n"
     ]
    }
   ],
   "source": [
    "optimized_theta, J_plot = gradient_descent(X, y, initial_theta)\n",
    "print(f\"Value of optimized theta : {optimized_theta}\")\n",
    "print(f\"Optimized cost after running 600 iterations : {J_plot[-1]}\")"
   ]
  },
  {
   "cell_type": "code",
   "execution_count": 17,
   "metadata": {
    "scrolled": false
   },
   "outputs": [
    {
     "data": {
      "image/png": "[encoded data removed]",
      "text/plain": [
       "<Figure size 432x288 with 1 Axes>"
      ]
     },
     "metadata": {
      "needs_background": "light"
     },
     "output_type": "display_data"
    }
   ],
   "source": [
    "plt.plot(J_plot)\n",
    "plt.xlabel(\"iterations\")\n",
    "plt.ylabel(\"Cost\")\n",
    "plt.title(\"Learning Curve\")\n",
    "plt.show()"
   ]
  },
  {
   "cell_type": "markdown",
   "metadata": {},
   "source": [
    "##  Visualizing the decision boundary"
   ]
  },
  {
   "cell_type": "code",
   "execution_count": 21,
   "metadata": {},
   "outputs": [
    {
     "data": {
      "text/plain": [
       "<matplotlib.legend.Legend at 0x885eb91248>"
      ]
     },
     "execution_count": 21,
     "metadata": {},
     "output_type": "execute_result"
    },
    {
     "data": {
      "image/png": "[encoded data removed]",
      "text/plain": [
       "<Figure size 432x288 with 1 Axes>"
      ]
     },
     "metadata": {
      "needs_background": "light"
     },
     "output_type": "display_data"
    }
   ],
   "source": [
    "pos , neg = (y==1).reshape(100,1) , (y==0).reshape(100,1)\n",
    "plt.scatter(X[pos[:,0],1],X[pos[:,0],2],c=\"r\",marker=\"+\",label=\"Admitted\")\n",
    "plt.scatter(X[neg[:,0],1],X[neg[:,0],2],c=\"b\",marker=\"x\",label=\"Not admitted\")\n",
    "x_value= np.array([np.min(X[:,1]),np.max(X[:,1])])\n",
    "y_value=-(optimized_theta[0] + optimized_theta[1]*x_value)/optimized_theta[2]\n",
    "plt.plot(x_value,y_value, \"g\")\n",
    "plt.xlabel(\"Exam 1 score\")\n",
    "plt.ylabel(\"Exam 2 score\")\n",
    "plt.legend(loc=0)"
   ]
  },
  {
   "cell_type": "markdown",
   "metadata": {},
   "source": [
    "## Prediction Function"
   ]
  },
  {
   "cell_type": "code",
   "execution_count": 22,
   "metadata": {},
   "outputs": [],
   "source": [
    "def predict(X, theta):\n",
    "    predictions = np.dot(X, theta)\n",
    "    return predictions > 0"
   ]
  },
  {
   "cell_type": "code",
   "execution_count": 47,
   "metadata": {},
   "outputs": [
    {
     "name": "stdout",
     "output_type": "stream",
     "text": [
      "for a student with scores 45 and 85, we predict admission chances of 77.37232531427982%\n"
     ]
    }
   ],
   "source": [
    "x_test = np.array([45, 85])\n",
    "x_test = (x_test - mean) / std\n",
    "x_test = np.append(np.ones(1),x_test)\n",
    "prob = sigmoid(x_test.dot(optimized_theta))\n",
    "print(f\"for a student with scores 45 and 85, we predict admission chances of {prob[0]*100}%\")"
   ]
  },
  {
   "cell_type": "code",
   "execution_count": 48,
   "metadata": {},
   "outputs": [
    {
     "name": "stdout",
     "output_type": "stream",
     "text": [
      "for a student with scores 95 and 85, we predict admission chances of 99.99892679079575%\n"
     ]
    }
   ],
   "source": [
    "x_test = np.array([95, 85])\n",
    "x_test = (x_test - mean) / std\n",
    "x_test = np.append(np.ones(1),x_test)\n",
    "prob = sigmoid(x_test.dot(optimized_theta))\n",
    "print(f\"for a student with scores 95 and 85, we predict admission chances of {prob[0]*100}%\")"
   ]
  },
  {
   "cell_type": "code",
   "execution_count": 51,
   "metadata": {},
   "outputs": [
    {
     "name": "stdout",
     "output_type": "stream",
     "text": [
      "for a student with scores 55 and 25, we predict admission chances of 0.016719619141608338%\n"
     ]
    }
   ],
   "source": [
    "x_test = np.array([55, 25])\n",
    "x_test = (x_test - mean) / std\n",
    "x_test = np.append(np.ones(1),x_test)\n",
    "prob = sigmoid(x_test.dot(optimized_theta))\n",
    "print(f\"for a student with scores 55 and 25, we predict admission chances of {prob[0]*100}%\")"
   ]
  },
  {
   "cell_type": "markdown",
   "metadata": {},
   "source": [
    "## Accuracy"
   ]
  },
  {
   "cell_type": "code",
   "execution_count": 59,
   "metadata": {},
   "outputs": [
    {
     "name": "stdout",
     "output_type": "stream",
     "text": [
      "Train Accuracy before learning: 40 %\n",
      "Train Accuracy after learning: 89 %\n"
     ]
    }
   ],
   "source": [
    "p=predict(X, initial_theta)\n",
    "p1 = predict(X, optimized_theta)\n",
    "print(\"Train Accuracy before learning:\", sum(p==y)[0],\"%\")\n",
    "print(\"Train Accuracy after learning:\", sum(p1==y)[0],\"%\")"
   ]
  },
  {
   "cell_type": "markdown",
   "metadata": {},
   "source": [
    "## Code contributed by Sammya Majumdar"
   ]
  }
 ],
 "metadata": {
  "kernelspec": {
   "display_name": "Python 3",
   "language": "python",
   "name": "python3"
  },
  "language_info": {
   "codemirror_mode": {
    "name": "ipython",
    "version": 3
   },
   "file_extension": ".py",
   "mimetype": "text/x-python",
   "name": "python",
   "nbconvert_exporter": "python",
   "pygments_lexer": "ipython3",
   "version": "3.7.6"
  }
 },
 "nbformat": 4,
 "nbformat_minor": 4
}
