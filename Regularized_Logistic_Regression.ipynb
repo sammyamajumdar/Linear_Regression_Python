{
 "cells": [
  {
   "cell_type": "code",
   "execution_count": 1,
   "metadata": {},
   "outputs": [],
   "source": [
    "import numpy as np\n",
    "import matplotlib.pyplot as plt\n",
    "import pandas as pd"
   ]
  },
  {
   "cell_type": "markdown",
   "metadata": {},
   "source": [
    "## Load the data"
   ]
  },
  {
   "cell_type": "code",
   "execution_count": 2,
   "metadata": {},
   "outputs": [
    {
     "name": "stdout",
     "output_type": "stream",
     "text": [
      "          0        1  2\n",
      "0  0.051267  0.69956  1\n",
      "1 -0.092742  0.68494  1\n",
      "2 -0.213710  0.69225  1\n",
      "3 -0.375000  0.50219  1\n",
      "4 -0.513250  0.46564  1\n",
      "                0           1           2\n",
      "count  118.000000  118.000000  118.000000\n",
      "mean     0.054779    0.183102    0.491525\n",
      "std      0.496654    0.519743    0.502060\n",
      "min     -0.830070   -0.769740    0.000000\n",
      "25%     -0.372120   -0.254385    0.000000\n",
      "50%     -0.006336    0.213455    0.000000\n",
      "75%      0.478970    0.646562    1.000000\n",
      "max      1.070900    1.108900    1.000000\n"
     ]
    }
   ],
   "source": [
    "data = pd.read_csv(\"desktop/ML_DL_projects/ex2data2.txt\", header = None)\n",
    "x = np.array(data.iloc[:, 0:2])\n",
    "y = np.array(data.iloc[:, -1])\n",
    "print(data.head())\n",
    "print(data.describe())"
   ]
  },
  {
   "cell_type": "markdown",
   "metadata": {},
   "source": [
    "## Visualize the data"
   ]
  },
  {
   "cell_type": "code",
   "execution_count": 3,
   "metadata": {},
   "outputs": [
    {
     "data": {
      "image/png": "[encoded data removed]",
      "text/plain": [
       "<Figure size 432x288 with 1 Axes>"
      ]
     },
     "metadata": {
      "needs_background": "light"
     },
     "output_type": "display_data"
    }
   ],
   "source": [
    "x_pos = np.array([x[i] for i in range(len(x)) if y[i] == 1])\n",
    "x_neg = np.array([x[j] for j in range(len(x)) if y[j] == 0])\n",
    "plt.scatter(x_pos[:, 0], x_pos[:, 1], marker = \"o\", color = \"b\")\n",
    "plt.scatter(x_neg[:, 0], x_neg[:, 1], marker = \"o\", color = \"r\")\n",
    "plt.xlabel(\"Test 1\")\n",
    "plt.ylabel(\"Test 2\")\n",
    "plt.legend([\"Accepted\",\"Rejected\"],loc=0)\n",
    "plt.show()"
   ]
  },
  {
   "cell_type": "markdown",
   "metadata": {},
   "source": [
    "## Feature mapping"
   ]
  },
  {
   "cell_type": "code",
   "execution_count": 4,
   "metadata": {},
   "outputs": [
    {
     "name": "stdout",
     "output_type": "stream",
     "text": [
      "[[ 1.00000000e+00  5.12670000e-02  6.99560000e-01 ...  6.29470940e-04\n",
      "   8.58939846e-03  1.17205992e-01]\n",
      " [ 1.00000000e+00 -9.27420000e-02  6.84940000e-01 ...  1.89305413e-03\n",
      "  -1.39810280e-02  1.03255971e-01]\n",
      " [ 1.00000000e+00 -2.13710000e-01  6.92250000e-01 ...  1.04882142e-02\n",
      "  -3.39734512e-02  1.10046893e-01]\n",
      " ...\n",
      " [ 1.00000000e+00 -4.84450000e-01  9.99270000e-01 ...  2.34007252e-01\n",
      "  -4.82684337e-01  9.95627986e-01]\n",
      " [ 1.00000000e+00 -6.33640000e-03  9.99270000e-01 ...  4.00328554e-05\n",
      "  -6.31330588e-03  9.95627986e-01]\n",
      " [ 1.00000000e+00  6.32650000e-01 -3.06120000e-02 ...  3.51474517e-07\n",
      "  -1.70067777e-08  8.22905998e-10]]\n"
     ]
    }
   ],
   "source": [
    "def featuremapping(x1, x2, degree):\n",
    "    output = np.ones(len(x1)).reshape(len(x1), 1)\n",
    "    for i in range(1, degree + 1):\n",
    "        for j in range(i + 1):\n",
    "            terms = (x1**(i-j) * x2**j).reshape(len(x1),1)\n",
    "            output = np.hstack((output, terms))\n",
    "    return output\n",
    "x = featuremapping(x[:, 0], x[:, 1], 6)\n",
    "print(x) # after adding polynomial terms with feature mapping"
   ]
  },
  {
   "cell_type": "markdown",
   "metadata": {},
   "source": [
    "## Activation function"
   ]
  },
  {
   "cell_type": "code",
   "execution_count": 5,
   "metadata": {},
   "outputs": [
    {
     "name": "stdout",
     "output_type": "stream",
     "text": [
      "value of sigmoid 0 : 0.5\n",
      "value of sigmoid 12 : 0.9999938558253978\n"
     ]
    }
   ],
   "source": [
    "def sigmoid(z):\n",
    "    return 1 / (1 + np.exp(-z))\n",
    "print(f\"value of sigmoid 0 : {sigmoid(0)}\")\n",
    "print(f\"value of sigmoid 12 : {sigmoid(12)}\")"
   ]
  },
  {
   "cell_type": "markdown",
   "metadata": {},
   "source": [
    "## Cost Function with Regularization"
   ]
  },
  {
   "cell_type": "code",
   "execution_count": 6,
   "metadata": {},
   "outputs": [
    {
     "name": "stdout",
     "output_type": "stream",
     "text": [
      "Cost with initial theta : 0.6931471805599461\n"
     ]
    }
   ],
   "source": [
    "def compute_cost(x, y, theta, Lambda):\n",
    "    m=len(y)\n",
    "    y=y[:,np.newaxis]\n",
    "    predictions = sigmoid(x @ theta)\n",
    "    error = (-y * np.log(predictions)) - ((1-y)*np.log(1-predictions))\n",
    "    cost = 1/m * sum(error)\n",
    "    regCost= cost + Lambda/(2*m) * sum(theta**2)\n",
    "    j0= 1/m * (x.transpose() @ (predictions - y))[0]\n",
    "    j1 = 1/m * (x.transpose() @ (predictions - y))[1:] + (Lambda/m)* theta[1:]\n",
    "    grad= np.vstack((j0[:,np.newaxis],j1))\n",
    "    return regCost[0], grad\n",
    "initial_theta = np.zeros((x.shape[1], 1))\n",
    "Lambda = 1\n",
    "cost, grad = compute_cost(x, y, initial_theta, Lambda)\n",
    "print(f\"Cost with initial theta : {cost}\")"
   ]
  },
  {
   "cell_type": "markdown",
   "metadata": {},
   "source": [
    "## Gradient Descent function"
   ]
  },
  {
   "cell_type": "code",
   "execution_count": 7,
   "metadata": {},
   "outputs": [],
   "source": [
    "def gradient_descent(x, y, theta, alpha = 1, iterations = 1000, Lambda = 0.2):\n",
    "    m = len(y)\n",
    "    J = []\n",
    "    for i in range(iterations):\n",
    "        cost, grad = compute_cost(x, y, theta, Lambda)\n",
    "        theta = theta - (alpha * grad)\n",
    "        J.append(cost)\n",
    "        if i % 100 == 0:\n",
    "            print(f\"Cost after iteration {i} : {cost}\")\n",
    "    return theta, J"
   ]
  },
  {
   "cell_type": "code",
   "execution_count": 8,
   "metadata": {},
   "outputs": [
    {
     "name": "stdout",
     "output_type": "stream",
     "text": [
      "Cost after iteration 0 : 0.6931471805599461\n",
      "Cost after iteration 100 : 0.4750230594456889\n",
      "Cost after iteration 200 : 0.4450389451973892\n",
      "Cost after iteration 300 : 0.43674321997950855\n",
      "Cost after iteration 400 : 0.4339854938135358\n",
      "Cost after iteration 500 : 0.4329812086582521\n",
      "Cost after iteration 600 : 0.4325954675573181\n",
      "Cost after iteration 700 : 0.4324430605552769\n",
      "Cost after iteration 800 : 0.4323828756005269\n",
      "Cost after iteration 900 : 0.4323603618208045\n",
      "optimized theta : [[ 2.27880244]\n",
      " [ 1.46080586]\n",
      " [ 2.35715798]\n",
      " [-3.59422604]\n",
      " [-2.40535327]\n",
      " [-3.15318778]\n",
      " [ 0.50807836]\n",
      " [-0.89035258]\n",
      " [-0.67140838]\n",
      " [-0.23901954]\n",
      " [-2.71375359]\n",
      " [ 0.08398879]\n",
      " [-1.33697646]\n",
      " [-0.82533105]\n",
      " [-2.24721195]\n",
      " [-0.41291091]\n",
      " [-0.43180184]\n",
      " [ 0.13263545]\n",
      " [-0.71800752]\n",
      " [-0.80905336]\n",
      " [-0.41741552]\n",
      " [-2.03405013]\n",
      " [ 0.19138695]\n",
      " [-0.6033608 ]\n",
      " [ 0.13782491]\n",
      " [-0.75975933]\n",
      " [-0.54578483]\n",
      " [-1.34424316]]\n"
     ]
    }
   ],
   "source": [
    "optimized_theta, J_plot = gradient_descent(x, y, initial_theta)\n",
    "print(f\"optimized theta : {optimized_theta}\")"
   ]
  },
  {
   "cell_type": "markdown",
   "metadata": {},
   "source": [
    "## Learning Curve"
   ]
  },
  {
   "cell_type": "code",
   "execution_count": 9,
   "metadata": {},
   "outputs": [
    {
     "data": {
      "image/png": "[encoded data removed]",
      "text/plain": [
       "<Figure size 432x288 with 1 Axes>"
      ]
     },
     "metadata": {
      "needs_background": "light"
     },
     "output_type": "display_data"
    }
   ],
   "source": [
    "plt.plot(J_plot)\n",
    "plt.xlabel(\"Iterations\")\n",
    "plt.ylabel(\"Cost\")\n",
    "plt.title(\"Learning Curve\")\n",
    "plt.show()"
   ]
  },
  {
   "cell_type": "code",
   "execution_count": 14,
   "metadata": {},
   "outputs": [
    {
     "data": {
      "text/plain": [
       "<matplotlib.legend.Legend at 0x4d5b58bec8>"
      ]
     },
     "execution_count": 14,
     "metadata": {},
     "output_type": "execute_result"
    },
    {
     "data": {
      "image/png": "[encoded data removed]",
      "text/plain": [
       "<Figure size 432x288 with 1 Axes>"
      ]
     },
     "metadata": {
      "needs_background": "light"
     },
     "output_type": "display_data"
    }
   ],
   "source": [
    "def mapFeaturePlot(x1,x2,degree):\n",
    "    output = np.ones(1)\n",
    "    for i in range(1,degree+1):\n",
    "        for j in range(i+1):\n",
    "            terms= (x1**(i-j) * x2**j)\n",
    "            output = np.hstack((output,terms))\n",
    "    return output\n",
    "plt.scatter(x_pos[:, 0], x_pos[:, 1], marker = \"o\", color = \"b\", label = \"Accepted\")\n",
    "plt.scatter(x_neg[:, 0], x_neg[:, 1], marker = \"o\", color = \"r\", label = \"Rejected\")\n",
    "u_vals = np.linspace(-1,1.5,50)\n",
    "v_vals= np.linspace(-1,1.5,50)\n",
    "z=np.zeros((len(u_vals),len(v_vals)))\n",
    "for i in range(len(u_vals)):\n",
    "    for j in range(len(v_vals)):\n",
    "        z[i,j] =mapFeaturePlot(u_vals[i],v_vals[j],6) @ optimized_theta \n",
    "\n",
    "plt.contour(u_vals,v_vals,z.T,0)\n",
    "plt.xlabel(\"Test 1\")\n",
    "plt.ylabel(\"Test 2\")\n",
    "plt.legend(loc=\"lower left\")"
   ]
  },
  {
   "cell_type": "markdown",
   "metadata": {},
   "source": [
    "## Accuracy"
   ]
  },
  {
   "cell_type": "code",
   "execution_count": 12,
   "metadata": {},
   "outputs": [
    {
     "name": "stdout",
     "output_type": "stream",
     "text": [
      "Training Accuracy: 83.05084745762711 %\n"
     ]
    }
   ],
   "source": [
    "def predict(x, theta):\n",
    "    predictions = np.dot(x, theta)\n",
    "    return predictions > 0\n",
    "p = predict(x, optimized_theta)\n",
    "print(\"Training Accuracy:\", (sum(p==y[:,np.newaxis])/len(y) *100)[0],\"%\")"
   ]
  },
  {
   "cell_type": "markdown",
   "metadata": {},
   "source": [
    "## Code contributed by Sammya Majumdar"
   ]
  }
 ],
 "metadata": {
  "kernelspec": {
   "display_name": "Python 3",
   "language": "python",
   "name": "python3"
  },
  "language_info": {
   "codemirror_mode": {
    "name": "ipython",
    "version": 3
   },
   "file_extension": ".py",
   "mimetype": "text/x-python",
   "name": "python",
   "nbconvert_exporter": "python",
   "pygments_lexer": "ipython3",
   "version": "3.7.6"
  }
 },
 "nbformat": 4,
 "nbformat_minor": 4
}
